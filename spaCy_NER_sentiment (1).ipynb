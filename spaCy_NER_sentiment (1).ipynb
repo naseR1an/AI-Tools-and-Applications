{
 "cells": [
  {
   "cell_type": "code",
   "execution_count": 12,
   "metadata": {
    "colab": {
     "base_uri": "https://localhost:8080/"
    },
    "id": "ScGZxf6-uKYt",
    "outputId": "cb3957e1-e819-4d89-f463-44a4606fa842"
   },
   "outputs": [
    {
     "name": "stdout",
     "output_type": "stream",
     "text": [
      "Results saved as 'amazon_reviews_analysis.csv'\n"
     ]
    }
   ],
   "source": [
    "import spacy\n",
    "from textblob import TextBlob\n",
    "import pandas as pd\n",
    "\n",
    "# Load spaCy NLP model for NER\n",
    "nlp = spacy.load(\"en_core_web_sm\")\n",
    "\n",
    "# Manually loaded Amazon product reviews\n",
    "reviews = [\n",
    "    \"__label__2 Great CD: My lovely Pat has one of the GREAT voices of her generation. I have listened to this CD for YEARS and I still LOVE IT. When I'm in a good mood it makes me feel better. A bad mood just evaporates like sugar in the rain.\",\n",
    "    \"__label__2 One of the best game music soundtracks - for a game I didn't really play: Despite the fact that I have only played a small portion of the game, the music I heard led me to purchase the soundtrack, and it remains one of my favorite albums.\",\n",
    "    \"__label__1 Batteries died within a year ...: I bought this charger in Jul 2003 and it worked OK for a while. The design is nice and convenient. However, after about a year, the batteries would not hold a charge.\",\n",
    "    \"__label__2 Works fine, but Maha Energy is better: Check out Maha Energy's website. Their Powerex MH-C204F charger works in 100 minutes for rapid charge.\",\n",
    "    \"__label__2 Great for the non-audiophile: Reviewed quite a bit of the combo players and was hesitant due to unfavorable reviews and size of machines.\",\n",
    "    \"__label__1 DVD Player crapped out after one year: I also began having the incorrect disc problems that I've read about on here. The VCR still works, but the DVD side is useless.\",\n",
    "    \"__label__1 Incorrect Disc: I love the style of this, but after a couple years, the DVD is giving me problems.\",\n",
    "    \"__label__1 DVD menu select problems: I cannot scroll through a DVD menu that is set up vertically. The triangle keys will only select horizontally.\",\n",
    "    \"__label__2 Unique Weird Orientalia from the 1930's: Exotic tales of the Orient from the 1930's. \\\"Dr Shen Fu\\\", a Weird Tales magazine reprint, is about the elixir of life that grants immortality at a price.\",\n",
    "    \"__label__1 Not an \\\"ultimate guide\\\": Firstly, I enjoyed the format and tone of the book, but I did not feel that she imparted any insider secrets that the book promised to reveal.\",\n",
    "]\n",
    "\n",
    "# Process reviews for NER & sentiment analysis\n",
    "data = []\n",
    "for review in reviews:\n",
    "    label, text = review.split(\": \", 1)  # Separate label from text\n",
    "    doc = nlp(text)\n",
    "\n",
    "    # Extract Named Entities (product names & brands)\n",
    "    entities = [ent.text for ent in doc.ents]\n",
    "\n",
    "    # Perform Sentiment Analysis\n",
    "    sentiment_score = TextBlob(text).sentiment.polarity\n",
    "    sentiment_label = \"Positive\" if sentiment_score > 0 else \"Negative\"\n",
    "\n",
    "    data.append([label, text, entities, sentiment_score, sentiment_label])\n",
    "\n",
    "# Convert results into DataFrame\n",
    "df_reviews = pd.DataFrame(data, columns=[\"Label\", \"Review\", \"Named Entities\", \"Sentiment Score\", \"Sentiment Label\"])\n",
    "\n",
    "# Save to CSV\n",
    "df_reviews.to_csv(\"amazon_reviews_analysis.csv\", index=False)\n",
    "print(\"Results saved as 'amazon_reviews_analysis.csv'\")\n"
   ]
  },
  {
   "cell_type": "code",
   "execution_count": 13,
   "metadata": {
    "colab": {
     "base_uri": "https://localhost:8080/"
    },
    "id": "bAZJMRwfu8kB",
    "outputId": "17e1d01d-0a01-4603-f38e-b8e6535061d4"
   },
   "outputs": [
    {
     "name": "stdout",
     "output_type": "stream",
     "text": [
      "Review: __label__2 Great CD: My lovely Pat has one of the GREAT voices of her generation. I have listened to this CD for YEARS and I still LOVE IT. When I'm in a good mood it makes me feel better. A bad mood just evaporates like sugar in the rain.\n",
      "Named Entities:\n",
      " - Pat: PERSON\n",
      " - one: CARDINAL\n",
      " - GREAT: ORG\n",
      " - YEARS: DATE\n",
      "--------------------------------------------------\n",
      "Review: __label__2 One of the best game music soundtracks - for a game I didn't really play: Despite the fact that I have only played a small portion of the game, the music I heard led me to purchase the soundtrack, and it remains one of my favorite albums.\n",
      "Named Entities:\n",
      " - One: CARDINAL\n",
      " - one: CARDINAL\n",
      "--------------------------------------------------\n",
      "Review: __label__1 Batteries died within a year ...: I bought this charger in Jul 2003 and it worked OK for a while. The design is nice and convenient. However, after about a year, the batteries would not hold a charge.\n",
      "Named Entities:\n",
      " - a year: DATE\n",
      " - 2003: DATE\n",
      " - about a year: DATE\n",
      "--------------------------------------------------\n",
      "Review: __label__2 Works fine, but Maha Energy is better: Check out Maha Energy's website. Their Powerex MH-C204F charger works in 100 minutes for rapid charge.\n",
      "Named Entities:\n",
      " - label__2 Works: PERSON\n",
      " - Maha Energy: PERSON\n",
      " - Their Powerex MH-C204F: ORG\n",
      " - 100 minutes: TIME\n",
      "--------------------------------------------------\n",
      "Review: __label__2 Great for the non-audiophile: Reviewed quite a bit of the combo players and was hesitant due to unfavorable reviews and size of machines.\n",
      "Named Entities:\n",
      "--------------------------------------------------\n",
      "Review: __label__1 DVD Player crapped out after one year: I also began having the incorrect disc problems that I've read about on here. The VCR still works, but the DVD side is useless.\n",
      "Named Entities:\n",
      " - one year: DATE\n",
      "--------------------------------------------------\n",
      "Review: __label__1 Incorrect Disc: I love the style of this, but after a couple years, the DVD is giving me problems.\n",
      "Named Entities:\n",
      " - a couple years: DATE\n",
      "--------------------------------------------------\n",
      "Review: __label__1 DVD menu select problems: I cannot scroll through a DVD menu that is set up vertically. The triangle keys will only select horizontally.\n",
      "Named Entities:\n",
      "--------------------------------------------------\n",
      "Review: __label__2 Unique Weird Orientalia from the 1930's: Exotic tales of the Orient from the 1930's. \"Dr Shen Fu\", a Weird Tales magazine reprint, is about the elixir of life that grants immortality at a price.\n",
      "Named Entities:\n",
      " - 1930: DATE\n",
      " - Orient: LOC\n",
      " - 1930: DATE\n",
      " - Shen Fu: PERSON\n",
      " - Weird Tales: GPE\n",
      "--------------------------------------------------\n",
      "Review: __label__1 Not an \"ultimate guide\": Firstly, I enjoyed the format and tone of the book, but I did not feel that she imparted any insider secrets that the book promised to reveal.\n",
      "Named Entities:\n",
      " - Firstly: ORDINAL\n",
      "--------------------------------------------------\n"
     ]
    }
   ],
   "source": [
    "import spacy\n",
    "\n",
    "# Load spaCy English NLP model\n",
    "nlp = spacy.load(\"en_core_web_sm\")\n",
    "\n",
    "# Process each review and extract entities\n",
    "for review in reviews:\n",
    "    doc = nlp(review)\n",
    "    print(f\"Review: {review}\")\n",
    "    print(\"Named Entities:\")\n",
    "    for ent in doc.ents:\n",
    "        print(f\" - {ent.text}: {ent.label_}\")\n",
    "    print(\"-\" * 50)\n"
   ]
  }
 ],
 "metadata": {
  "colab": {
   "provenance": []
  },
  "kernelspec": {
   "display_name": "anaconda-panel-2023.05-py310",
   "language": "python",
   "name": "conda-env-anaconda-panel-2023.05-py310-py"
  },
  "language_info": {
   "codemirror_mode": {
    "name": "ipython",
    "version": 3
   },
   "file_extension": ".py",
   "mimetype": "text/x-python",
   "name": "python",
   "nbconvert_exporter": "python",
   "pygments_lexer": "ipython3",
   "version": "3.11.5"
  }
 },
 "nbformat": 4,
 "nbformat_minor": 4
}
